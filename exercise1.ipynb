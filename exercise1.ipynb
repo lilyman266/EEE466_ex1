{
 "cells": [
  {
   "cell_type": "markdown",
   "id": "9df7d947152e059",
   "metadata": {
    "collapsed": false
   },
   "source": [
    "# Exercise 1: Protobuf\n",
    "\n",
    "## Part 1: Warm Up\n",
    "\n",
    "Below is an excerpt from `warm_up.proto`.\n",
    "\n",
    "```\n",
    "// Defines the details of a fish.\n",
    "message Fish {\n",
    "  required string species = 1;\n",
    "  optional float size_in_cm = 2;\n",
    "}\n",
    "\n",
    "// Defines an aquarium which can contain multiple fishes.\n",
    "message Aquarium {\n",
    "  repeated Fish fishes = 1;\n",
    "}\n",
    "```\n",
    "### Using protobuf (tutorial)\n",
    "\n",
    "Let's take a brief look at how python uses protobuf definitions and protoc, the protobuf compiler, to send structured data between different services or applications in a language- and platform-neutral format. The data structures defined in the .proto file are compiled into python classes. Protobuf's library functions are then used to serialize and deserialize the data.\n",
    "\n",
    "In the snip below we use the jupyter notebook magic command `%cd` to move to the `warm_up` directory and `!` to call a shell command in a new process (similar to `fork()` and `exec()`). Protoc creates a `.py` file used for the definition, serialization, and deserialization of protobuf-defined types."
   ]
  },
  {
   "cell_type": "code",
   "execution_count": null,
   "id": "e70eda516db24582",
   "metadata": {
    "collapsed": false
   },
   "outputs": [],
   "source": [
    "%cd warm_up"
   ]
  },
  {
   "cell_type": "code",
   "execution_count": null,
   "id": "81c5bbb6",
   "metadata": {},
   "outputs": [],
   "source": [
    "!python -m grpc_tools.protoc warm_up.proto --proto_path=. --python_out=. "
   ]
  },
  {
   "cell_type": "markdown",
   "id": "eeb1d1608557757a",
   "metadata": {
    "ExecuteTime": {
     "end_time": "2024-08-28T18:43:39.115370800Z",
     "start_time": "2024-08-28T18:43:38.831978700Z"
    },
    "collapsed": false
   },
   "source": [
    "Inspect `warm_up_pb2.py`. Although not represented by traditional classes, protobuf creates metaclasses for the different message types. These metaclass structures work as templates for classes using the protobuf definition, e.g., warm_up_pb2.Fish in the following cell. We can define messages as python objects by importing `warm_up_pb2.py` and building the fields using the constructor:"
   ]
  },
  {
   "cell_type": "code",
   "execution_count": null,
   "id": "29b87628451548f1",
   "metadata": {
    "collapsed": false
   },
   "outputs": [
    {
     "ename": "",
     "evalue": "",
     "output_type": "error",
     "traceback": [
      "\u001b[1;31mRunning cells with '.venv (3.12.7) (Python 3.12.7)' requires the ipykernel package.\n",
      "\u001b[1;31mInstall 'ipykernel' into the Python environment. \n",
      "\u001b[1;31mCommand: '\"c:/Users/felix/Documents/Year 4/EEE466/exercise1_wool/.venv/bin/python.exe\" -m pip install ipykernel -U --force-reinstall'"
     ]
    }
   ],
   "source": [
    "import warm_up_pb2\n",
    "\n",
    "my_fishie = warm_up_pb2.Fish(species=\"Clown Fish\", size_in_cm=10)\n",
    "print(my_fishie)"
   ]
  },
  {
   "cell_type": "markdown",
   "id": "d55c4c82bf059587",
   "metadata": {
    "collapsed": false
   },
   "source": [
    "This works the same way for nested and repeated messages. Run the code block below, then try adding a new fish object and adding it to the aquarium."
   ]
  },
  {
   "cell_type": "code",
   "execution_count": null,
   "id": "b43e3c2c0f21486b",
   "metadata": {
    "collapsed": false
   },
   "outputs": [],
   "source": [
    "my_aquarium = warm_up_pb2.Aquarium(fishes=[my_fishie])\n",
    "print(my_aquarium)"
   ]
  },
  {
   "cell_type": "markdown",
   "id": "9deda2b271e8e608",
   "metadata": {
    "collapsed": false
   },
   "source": [
    "Lastly, we can also access and set attributes of message objects using the dot operator. Try modifying the size of your fish object by accessing the nested attributes of `my_aquarium`."
   ]
  },
  {
   "cell_type": "code",
   "execution_count": null,
   "id": "b77158cd74471d1f",
   "metadata": {
    "collapsed": false
   },
   "outputs": [],
   "source": [
    "my_fishie.size_in_cm = 12\n",
    "print(my_fishie)"
   ]
  },
  {
   "cell_type": "markdown",
   "id": "fd52a073ad74bd98",
   "metadata": {
    "collapsed": false
   },
   "source": [
    "See this [protobuf python tutorial](https://protobuf.dev/getting-started/pythontutorial/) and the [proto2 language guide](https://protobuf.dev/programming-guides/proto2/) for additional information about using protobuf.\n",
    "\n",
    "**Question 1**: Use the procedure seen in lecture to encode a `Fish` message it into its serialized binary representation, and then convert it into hexadecimal. Use the values `Clown Fish` and `10` for the `species` and `size_in_cm` fields, respectively. Show your steps."
   ]
  },
  {
   "cell_type": "markdown",
   "id": "55a21f9d8cbbd222",
   "metadata": {
    "collapsed": false
   },
   "source": [
    "## Part 2: Scenario\n",
    "\n",
    "### Background\n",
    "You are a systems engineer at Stellar Horizons, a cutting-edge space startup that specializes in interplanetary missions. Recently, your team successfully launched the Jupyter Probe to study the atmosphere of Jupiter.\n",
    "\n",
    "During routine operations, communication with Jupyter Probe was suddenly lost due to a power surge and system failure at the Ares Link Facility, which serves as the primary communication hub for the probe.\n",
    "\n",
    "As the lead systems engineer, your responsibility is to manage the crisis. The fate of the Jupyter Probe, a multi-million-dollar investment, hangs in the balance. Preliminary analysis suggests the last data transmission might contain clues about the probe’s current status and trajectory.\n",
    "\n",
    "### Part 2.1: Data Analysis\n",
    "As part of your contingency operations, you access the pcapng (Packet Capture) file containing the last transmissions received from the Jupyter Probe. These transmissions are encoded using Protocol Buffers. However, the protobuf definition file was corrupted when the system went down. Your team is currently working to recover it but in the meantime you must parse out what information you can from the packet logs.\n",
    "\n",
    "**Question 2**: open the file in Wireshark to determine the following:\n",
    "a. What transport protocol is the system using to send and receive messages?\n",
    "b. There are two port numbers being used, what are they? Which is the Ares Link ground station and which is the Jupyter Probe?\n",
    "c. How many message types do you see?\n",
    "d. Decode the first instance of each message type to get the following information about each field:\n",
    "\t1. Field number\n",
    "\t2. Field type\n",
    "\t3. Field value (decode varint and string types, leave floating point values as binary)\n",
    "\n",
    "\n",
    "### Part 2.2: Regaining Control\n",
    "In a fortunate turn of events, an intern at the facility has recovered a copy of the protobuf specification used for communications with Jupyter Probe (`specification.txt`). This document provides the names of the variables encoded in the transmissions, which will aid in correlating them with the data you've recovered.\n",
    "\n",
    "The flight dynamics team has reported that the initial data decoded from the pcapng file indicates that Jupyter Probe is currently in an unstable orbit around Mars. If immediate corrective actions are not taken, the probe could either escape Mars's orbit on a bad trajectory or crash into its surface.\n",
    "\n",
    "You must bootstrap a solution. As a minimum, the flight dynamics team has identified that sending a packet with correctly calculated **engine burn time** and **angle of thrust** floating point values should command the probe to correct its course. Thinking back to your time as an EEE466 student, you know it's possible to develop a python script that can interpret the incoming telemetry and send new flight commands to adjust back to a safe trajectory using protobuf marshalling. The flight dynamics team will provide you with the trajectory equation based on the current orbital parameters and the desired trajectory.\n",
    "\n",
    "Question 3: Using the data you decoded from the packet logs and hints from the specification file, write a protobuf file that will allow you to interface with Jupyter Probe.\n",
    "\n",
    "Question 4: Write a ground station python script to accept telemetry data from Jupyter Probe, perform the adjustment calculation, and transmit a control signal. Listen for new data to come back from the probe indicating that it has returned to a safe trajectory.\n",
    "\n",
    "The desired velocity for a safe trajectory is x=3,y=1,z=0 km/s. The engineers at flight dynamics have represented this as an array:\n",
    "\n",
    "```\n",
    "desired_velocity = np.array([3, 1, 0]) \n",
    "```\n",
    "\n",
    "You should use the same format after receiving the current velocity from Jupyter Probe.\n",
    "\n",
    "When you're ready to test your solution, run `jupyter_probe.exe`. Show that you have completed the challenge by printing the velocity data and the message containing the secret word.\n",
    "\n",
    "\n",
    "## Submission\n",
    "Submit a zip archive in the format `eee446_ex1_lastname1_lastname2.zip` that includes the following:\n",
    "1. This `.ipynb` notebook with the answers to questions 1 and 2 appended as a new cell.\n",
    "2. Your proto file (question 3).\n",
    "3. Your ground station python file (question 4).\n",
    "\n",
    "There is no report required for this exercise."
   ]
  },
  {
   "cell_type": "markdown",
   "id": "4fa0adaa",
   "metadata": {},
   "source": [
    "###Question 1:\n",
    "\n",
    "### My Answer:\n",
    "\n",
    "The message would start with the fish:\n",
    "tag: continuation bit: 0 ; tag #: 1 ; tag type: 2 (string)\n",
    "0000 1010 \n",
    "data: first bit is length (10 in hex), followed by 10 bytes of data (Clown Fish)\n",
    "0A 43 6C 6F 77 6E 20 46 69 73 68\n",
    "\n",
    "tag: continuation bit: 0 ; tag #: 2 ; tag type: 0 (varint)\n",
    "0001 0000\n",
    "data: 1 byte: continuation bit = 0\n",
    "0000 1010\n",
    "\n",
    "Final serialized binary in hex:\n",
    "\n",
    "0A 0A 43 6C 6F 77 6E 20 46 69 73 68 10 0A\n",
    "\n",
    "### End of My Answer"
   ]
  },
  {
   "cell_type": "markdown",
   "id": "b88237f0",
   "metadata": {},
   "source": [
    "###Question 2\n",
    "\n",
    "### My Answer:\n",
    "a: what transport protocol is being used? UDP is being used.\n",
    "\n",
    "b: what are the port numbers? Port 64037 (Probe) and port 50320 (ground station).\n",
    "\n",
    "c: There are 3 message types: one is a string message which is sent from the probe to the ground station, another is a string + data message containing the x, y, and z values of the probe, and the last is a data message from the ground station to the probe which holds the burn time and angle of thrust.\n",
    "\n",
    "d: First message type:\n",
    "Tag: continuation bit: 0 ; tag #: 1 ; tag type: 2 (string)\n",
    "Data part 1: Number of bytes to follow: 53\n",
    "Data part 2: The string \"Hello! This is Jupyter Probe on a mission to Jupiter.\"\n",
    "\n",
    "Second message type:\n",
    "Tag: Continuation bit: 0 ; tag #: 1 ; tag type: 2 (string)\n",
    "Data: len: 46 ; data: Transmission of velocity data in x, y, z axes.\n",
    "\n",
    "Tag: Continuation bit: 0 ; tag #: 2 ; tag type: 2 (embedded message)\n",
    "Data: len: 6 ; data: 8  4  16  0  24  1\n",
    "\n",
    "Third message type:\n",
    "Tag: Continuation bit: 0 ; tag #: 1 ; tag type: 5 (i32)\n",
    "Data: 13 86 27 43, or 00010011 10000110 00100111 01000011. This is encoded in little endian encoding. Swapped around, this number is 01000011001001110110100000010011, or 167.4065399169921875.\n",
    "Tag: Continuation bit: 0 ; tag #: 2 ; tag type: 5 (i32)\n",
    "Data: 3e da 3f 42, or 00111110 11011010 00111111 01000010. This is encoded in little endian encoding. Swapped around, this number is 01000010001111111101101000111110, or 47.96312713623046875.\n",
    "\n",
    "This float converter was used for the calculations: https://www.h-schmidt.net/FloatConverter/IEEE754.html\n",
    "\n",
    "This hex - binary - decimal converter was used: https://www.rapidtables.com/convert/number/hex-to-binary.html?x=423fda3e\n",
    "\n",
    "###End of My Answer"
   ]
  }
 ],
 "metadata": {
  "kernelspec": {
   "display_name": ".venv (3.12.7)",
   "language": "python",
   "name": "python3"
  },
  "language_info": {
   "codemirror_mode": {
    "name": "ipython",
    "version": 3
   },
   "file_extension": ".py",
   "mimetype": "text/x-python",
   "name": "python",
   "nbconvert_exporter": "python",
   "pygments_lexer": "ipython3",
   "version": "3.12.7"
  }
 },
 "nbformat": 4,
 "nbformat_minor": 5
}
